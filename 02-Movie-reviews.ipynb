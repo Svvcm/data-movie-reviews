{
 "cells": [
  {
   "cell_type": "markdown",
   "metadata": {},
   "source": [
    "# Movie Reviews and Bag-of-Words Modelling"
   ]
  },
  {
   "cell_type": "markdown",
   "metadata": {},
   "source": [
    "🎯 The goal of this challenge is to play with the ***Bag-of-words*** modelling of texts."
   ]
  },
  {
   "cell_type": "markdown",
   "metadata": {},
   "source": [
    "✍️ In the following dataset, we have $2000$ reviews classified either as _\"positive\"_ or _\"negative\"_."
   ]
  },
  {
   "cell_type": "code",
   "execution_count": 1,
   "metadata": {},
   "outputs": [
    {
     "data": {
      "text/html": [
       "<div>\n",
       "<style scoped>\n",
       "    .dataframe tbody tr th:only-of-type {\n",
       "        vertical-align: middle;\n",
       "    }\n",
       "\n",
       "    .dataframe tbody tr th {\n",
       "        vertical-align: top;\n",
       "    }\n",
       "\n",
       "    .dataframe thead th {\n",
       "        text-align: right;\n",
       "    }\n",
       "</style>\n",
       "<table border=\"1\" class=\"dataframe\">\n",
       "  <thead>\n",
       "    <tr style=\"text-align: right;\">\n",
       "      <th></th>\n",
       "      <th>target</th>\n",
       "      <th>reviews</th>\n",
       "    </tr>\n",
       "  </thead>\n",
       "  <tbody>\n",
       "    <tr>\n",
       "      <th>0</th>\n",
       "      <td>neg</td>\n",
       "      <td>plot : two teen couples go to a church party ,...</td>\n",
       "    </tr>\n",
       "    <tr>\n",
       "      <th>1</th>\n",
       "      <td>neg</td>\n",
       "      <td>the happy bastard's quick movie review \\ndamn ...</td>\n",
       "    </tr>\n",
       "    <tr>\n",
       "      <th>2</th>\n",
       "      <td>neg</td>\n",
       "      <td>it is movies like these that make a jaded movi...</td>\n",
       "    </tr>\n",
       "    <tr>\n",
       "      <th>3</th>\n",
       "      <td>neg</td>\n",
       "      <td>\" quest for camelot \" is warner bros . ' firs...</td>\n",
       "    </tr>\n",
       "    <tr>\n",
       "      <th>4</th>\n",
       "      <td>neg</td>\n",
       "      <td>synopsis : a mentally unstable man undergoing ...</td>\n",
       "    </tr>\n",
       "  </tbody>\n",
       "</table>\n",
       "</div>"
      ],
      "text/plain": [
       "  target                                            reviews\n",
       "0    neg  plot : two teen couples go to a church party ,...\n",
       "1    neg  the happy bastard's quick movie review \\ndamn ...\n",
       "2    neg  it is movies like these that make a jaded movi...\n",
       "3    neg   \" quest for camelot \" is warner bros . ' firs...\n",
       "4    neg  synopsis : a mentally unstable man undergoing ..."
      ]
     },
     "execution_count": 1,
     "metadata": {},
     "output_type": "execute_result"
    }
   ],
   "source": [
    "import pandas as pd\n",
    "\n",
    "data = pd.read_csv(\"https://wagon-public-datasets.s3.amazonaws.com/05-Machine-Learning/10-Natural-Language-Processing/movie_reviews.csv\")\n",
    "data.head()"
   ]
  },
  {
   "cell_type": "code",
   "execution_count": 2,
   "metadata": {},
   "outputs": [
    {
     "data": {
      "text/plain": [
       "(2000, 2)"
      ]
     },
     "execution_count": 2,
     "metadata": {},
     "output_type": "execute_result"
    }
   ],
   "source": [
    "data.shape"
   ]
  },
  {
   "cell_type": "markdown",
   "metadata": {},
   "source": [
    "## 1. Preprocessing"
   ]
  },
  {
   "cell_type": "markdown",
   "metadata": {},
   "source": [
    "❓ **Question (Cleaning Text)** ❓\n",
    "\n",
    "- Write a function `preprocessing` that will clean a sentence and apply it to all our reviews. It should:\n",
    "    - remove whitespace\n",
    "    - lowercase characters\n",
    "    - remove numbers\n",
    "    - remove punctuation\n",
    "    - tokenize\n",
    "    - lemmatize\n",
    "- You can store the cleaned reviews into a column called `clean_reviews`.\n",
    "- Do not remove stopwords in this challenge, we will explain why in the section `3. N-gram modelling`"
   ]
  },
  {
   "cell_type": "code",
   "execution_count": 3,
   "metadata": {},
   "outputs": [],
   "source": [
    "import string\n",
    "from nltk import word_tokenize\n",
    "from nltk.stem import WordNetLemmatizer\n",
    "\n",
    "def preprocessing(sentence):\n",
    "    lemmatizer = WordNetLemmatizer()\n",
    "\n",
    "    sentence = sentence.strip().lower()\n",
    "\n",
    "    sentence = ''.join([char for char in sentence if not char.isdigit()])\n",
    "\n",
    "    sentence = sentence.translate(str.maketrans('', '', string.punctuation))\n",
    "\n",
    "    tokens = word_tokenize(sentence)\n",
    "\n",
    "    tokens = [lemmatizer.lemmatize(token) for token in tokens]\n",
    "\n",
    "    return tokens\n"
   ]
  },
  {
   "cell_type": "code",
   "execution_count": 6,
   "metadata": {},
   "outputs": [
    {
     "data": {
      "text/html": [
       "<div>\n",
       "<style scoped>\n",
       "    .dataframe tbody tr th:only-of-type {\n",
       "        vertical-align: middle;\n",
       "    }\n",
       "\n",
       "    .dataframe tbody tr th {\n",
       "        vertical-align: top;\n",
       "    }\n",
       "\n",
       "    .dataframe thead th {\n",
       "        text-align: right;\n",
       "    }\n",
       "</style>\n",
       "<table border=\"1\" class=\"dataframe\">\n",
       "  <thead>\n",
       "    <tr style=\"text-align: right;\">\n",
       "      <th></th>\n",
       "      <th>target</th>\n",
       "      <th>reviews</th>\n",
       "      <th>clean_reviews</th>\n",
       "    </tr>\n",
       "  </thead>\n",
       "  <tbody>\n",
       "    <tr>\n",
       "      <th>0</th>\n",
       "      <td>neg</td>\n",
       "      <td>plot : two teen couples go to a church party ,...</td>\n",
       "      <td>[plot, two, teen, couple, go, to, a, church, p...</td>\n",
       "    </tr>\n",
       "    <tr>\n",
       "      <th>1</th>\n",
       "      <td>neg</td>\n",
       "      <td>the happy bastard's quick movie review \\ndamn ...</td>\n",
       "      <td>[the, happy, bastard, quick, movie, review, da...</td>\n",
       "    </tr>\n",
       "    <tr>\n",
       "      <th>2</th>\n",
       "      <td>neg</td>\n",
       "      <td>it is movies like these that make a jaded movi...</td>\n",
       "      <td>[it, is, movie, like, these, that, make, a, ja...</td>\n",
       "    </tr>\n",
       "    <tr>\n",
       "      <th>3</th>\n",
       "      <td>neg</td>\n",
       "      <td>\" quest for camelot \" is warner bros . ' firs...</td>\n",
       "      <td>[quest, for, camelot, is, warner, bros, first,...</td>\n",
       "    </tr>\n",
       "    <tr>\n",
       "      <th>4</th>\n",
       "      <td>neg</td>\n",
       "      <td>synopsis : a mentally unstable man undergoing ...</td>\n",
       "      <td>[synopsis, a, mentally, unstable, man, undergo...</td>\n",
       "    </tr>\n",
       "    <tr>\n",
       "      <th>...</th>\n",
       "      <td>...</td>\n",
       "      <td>...</td>\n",
       "      <td>...</td>\n",
       "    </tr>\n",
       "    <tr>\n",
       "      <th>1995</th>\n",
       "      <td>pos</td>\n",
       "      <td>wow ! what a movie . \\nit's everything a movie...</td>\n",
       "      <td>[wow, what, a, movie, it, everything, a, movie...</td>\n",
       "    </tr>\n",
       "    <tr>\n",
       "      <th>1996</th>\n",
       "      <td>pos</td>\n",
       "      <td>richard gere can be a commanding actor , but h...</td>\n",
       "      <td>[richard, gere, can, be, a, commanding, actor,...</td>\n",
       "    </tr>\n",
       "    <tr>\n",
       "      <th>1997</th>\n",
       "      <td>pos</td>\n",
       "      <td>glory--starring matthew broderick , denzel was...</td>\n",
       "      <td>[glorystarring, matthew, broderick, denzel, wa...</td>\n",
       "    </tr>\n",
       "    <tr>\n",
       "      <th>1998</th>\n",
       "      <td>pos</td>\n",
       "      <td>steven spielberg's second epic film on world w...</td>\n",
       "      <td>[steven, spielberg, second, epic, film, on, wo...</td>\n",
       "    </tr>\n",
       "    <tr>\n",
       "      <th>1999</th>\n",
       "      <td>pos</td>\n",
       "      <td>truman ( \" true-man \" ) burbank is the perfect...</td>\n",
       "      <td>[truman, trueman, burbank, is, the, perfect, n...</td>\n",
       "    </tr>\n",
       "  </tbody>\n",
       "</table>\n",
       "<p>2000 rows × 3 columns</p>\n",
       "</div>"
      ],
      "text/plain": [
       "     target                                            reviews  \\\n",
       "0       neg  plot : two teen couples go to a church party ,...   \n",
       "1       neg  the happy bastard's quick movie review \\ndamn ...   \n",
       "2       neg  it is movies like these that make a jaded movi...   \n",
       "3       neg   \" quest for camelot \" is warner bros . ' firs...   \n",
       "4       neg  synopsis : a mentally unstable man undergoing ...   \n",
       "...     ...                                                ...   \n",
       "1995    pos  wow ! what a movie . \\nit's everything a movie...   \n",
       "1996    pos  richard gere can be a commanding actor , but h...   \n",
       "1997    pos  glory--starring matthew broderick , denzel was...   \n",
       "1998    pos  steven spielberg's second epic film on world w...   \n",
       "1999    pos  truman ( \" true-man \" ) burbank is the perfect...   \n",
       "\n",
       "                                          clean_reviews  \n",
       "0     [plot, two, teen, couple, go, to, a, church, p...  \n",
       "1     [the, happy, bastard, quick, movie, review, da...  \n",
       "2     [it, is, movie, like, these, that, make, a, ja...  \n",
       "3     [quest, for, camelot, is, warner, bros, first,...  \n",
       "4     [synopsis, a, mentally, unstable, man, undergo...  \n",
       "...                                                 ...  \n",
       "1995  [wow, what, a, movie, it, everything, a, movie...  \n",
       "1996  [richard, gere, can, be, a, commanding, actor,...  \n",
       "1997  [glorystarring, matthew, broderick, denzel, wa...  \n",
       "1998  [steven, spielberg, second, epic, film, on, wo...  \n",
       "1999  [truman, trueman, burbank, is, the, perfect, n...  \n",
       "\n",
       "[2000 rows x 3 columns]"
      ]
     },
     "execution_count": 6,
     "metadata": {},
     "output_type": "execute_result"
    }
   ],
   "source": [
    "# Clean reviews\n",
    "data['clean_reviews'] = data['reviews'].apply(preprocessing)\n",
    "\n",
    "data"
   ]
  },
  {
   "cell_type": "markdown",
   "metadata": {},
   "source": [
    "❓ **Question (LabelEncoding)**❓\n",
    "\n",
    "LabelEncode your target and store it into a column called `\"target_encoded\"`"
   ]
  },
  {
   "cell_type": "code",
   "execution_count": 8,
   "metadata": {
    "tags": [
     "challengify"
    ]
   },
   "outputs": [],
   "source": [
    "from sklearn.preprocessing import LabelEncoder\n",
    "\n",
    "label_encoder = LabelEncoder()\n",
    "\n",
    "data[\"target_encoded\"] = label_encoder.fit_transform(data[\"target\"])"
   ]
  },
  {
   "cell_type": "code",
   "execution_count": 13,
   "metadata": {},
   "outputs": [
    {
     "data": {
      "text/html": [
       "<div>\n",
       "<style scoped>\n",
       "    .dataframe tbody tr th:only-of-type {\n",
       "        vertical-align: middle;\n",
       "    }\n",
       "\n",
       "    .dataframe tbody tr th {\n",
       "        vertical-align: top;\n",
       "    }\n",
       "\n",
       "    .dataframe thead th {\n",
       "        text-align: right;\n",
       "    }\n",
       "</style>\n",
       "<table border=\"1\" class=\"dataframe\">\n",
       "  <thead>\n",
       "    <tr style=\"text-align: right;\">\n",
       "      <th></th>\n",
       "      <th>target</th>\n",
       "      <th>reviews</th>\n",
       "      <th>clean_reviews</th>\n",
       "      <th>target_encoded</th>\n",
       "    </tr>\n",
       "  </thead>\n",
       "  <tbody>\n",
       "    <tr>\n",
       "      <th>0</th>\n",
       "      <td>neg</td>\n",
       "      <td>plot : two teen couples go to a church party ,...</td>\n",
       "      <td>[plot, two, teen, couple, go, to, a, church, p...</td>\n",
       "      <td>0</td>\n",
       "    </tr>\n",
       "    <tr>\n",
       "      <th>1</th>\n",
       "      <td>neg</td>\n",
       "      <td>the happy bastard's quick movie review \\ndamn ...</td>\n",
       "      <td>[the, happy, bastard, quick, movie, review, da...</td>\n",
       "      <td>0</td>\n",
       "    </tr>\n",
       "    <tr>\n",
       "      <th>2</th>\n",
       "      <td>neg</td>\n",
       "      <td>it is movies like these that make a jaded movi...</td>\n",
       "      <td>[it, is, movie, like, these, that, make, a, ja...</td>\n",
       "      <td>0</td>\n",
       "    </tr>\n",
       "    <tr>\n",
       "      <th>3</th>\n",
       "      <td>neg</td>\n",
       "      <td>\" quest for camelot \" is warner bros . ' firs...</td>\n",
       "      <td>[quest, for, camelot, is, warner, bros, first,...</td>\n",
       "      <td>0</td>\n",
       "    </tr>\n",
       "    <tr>\n",
       "      <th>4</th>\n",
       "      <td>neg</td>\n",
       "      <td>synopsis : a mentally unstable man undergoing ...</td>\n",
       "      <td>[synopsis, a, mentally, unstable, man, undergo...</td>\n",
       "      <td>0</td>\n",
       "    </tr>\n",
       "  </tbody>\n",
       "</table>\n",
       "</div>"
      ],
      "text/plain": [
       "  target                                            reviews  \\\n",
       "0    neg  plot : two teen couples go to a church party ,...   \n",
       "1    neg  the happy bastard's quick movie review \\ndamn ...   \n",
       "2    neg  it is movies like these that make a jaded movi...   \n",
       "3    neg   \" quest for camelot \" is warner bros . ' firs...   \n",
       "4    neg  synopsis : a mentally unstable man undergoing ...   \n",
       "\n",
       "                                       clean_reviews  target_encoded  \n",
       "0  [plot, two, teen, couple, go, to, a, church, p...               0  \n",
       "1  [the, happy, bastard, quick, movie, review, da...               0  \n",
       "2  [it, is, movie, like, these, that, make, a, ja...               0  \n",
       "3  [quest, for, camelot, is, warner, bros, first,...               0  \n",
       "4  [synopsis, a, mentally, unstable, man, undergo...               0  "
      ]
     },
     "execution_count": 13,
     "metadata": {},
     "output_type": "execute_result"
    }
   ],
   "source": [
    "# Quick check\n",
    "data.head()"
   ]
  },
  {
   "cell_type": "markdown",
   "metadata": {},
   "source": [
    "## 2. Bag-of-Words Modelling"
   ]
  },
  {
   "cell_type": "markdown",
   "metadata": {},
   "source": [
    "❓ **Question (NaiveBayes with unigrams)** ❓\n",
    "\n",
    "Using `cross_validate`, score a Multinomial Naive Bayes model trained on a Bag-of-Words representation of the texts."
   ]
  },
  {
   "cell_type": "code",
   "execution_count": 14,
   "metadata": {
    "tags": [
     "challengify"
    ]
   },
   "outputs": [],
   "source": [
    "from sklearn.feature_extraction.text import CountVectorizer\n",
    "from sklearn.naive_bayes import MultinomialNB\n",
    "from sklearn.model_selection import cross_validate\n",
    "\n",
    "vectorizer = CountVectorizer()\n",
    "naivebayes = MultinomialNB()"
   ]
  },
  {
   "cell_type": "code",
   "execution_count": 15,
   "metadata": {},
   "outputs": [
    {
     "data": {
      "text/plain": [
       "0.82"
      ]
     },
     "execution_count": 15,
     "metadata": {},
     "output_type": "execute_result"
    }
   ],
   "source": [
    "data['clean_reviews_text'] = data['clean_reviews'].apply(lambda tokens: ' '.join(tokens))\n",
    "\n",
    "X_bow = vectorizer.fit_transform(data.clean_reviews_text)\n",
    "\n",
    "cv_nb = cross_validate(\n",
    "    naivebayes,\n",
    "    X_bow,\n",
    "    data.target_encoded,\n",
    "    scoring=\"accuracy\"\n",
    ")\n",
    "\n",
    "round(cv_nb['test_score'].mean(), 2)"
   ]
  },
  {
   "cell_type": "markdown",
   "metadata": {},
   "source": [
    "## 3. N-gram Modelling"
   ]
  },
  {
   "cell_type": "markdown",
   "metadata": {},
   "source": [
    "👀 Remember that we asked you not to remove stopwords. Why? \n",
    "\n",
    "👉 We will train the Naive Bayes model with bigrams. Hence, in sentence like \"I do not like coriander\", it is important to scan the bigram \"do not\" to detect negativity in this sentence for example."
   ]
  },
  {
   "cell_type": "markdown",
   "metadata": {},
   "source": [
    "❓ **Question (NaiveBayes with bigrams)** ❓\n",
    "\n",
    "Using `cross_validate`, score a Multinomial Naive Bayes model trained on a 2-gram Bag-of-Words representation of the texts."
   ]
  },
  {
   "cell_type": "code",
   "execution_count": 17,
   "metadata": {},
   "outputs": [
    {
     "data": {
      "text/plain": [
       "0.84"
      ]
     },
     "execution_count": 17,
     "metadata": {},
     "output_type": "execute_result"
    }
   ],
   "source": [
    "vectorizer = CountVectorizer(ngram_range=(2, 2))\n",
    "X_bow_bigrams = vectorizer.fit_transform(data.clean_reviews_text)\n",
    "\n",
    "cv_nb_bigrams = cross_validate(\n",
    "    naivebayes,\n",
    "    X_bow_bigrams,\n",
    "    data.target_encoded,\n",
    "    scoring=\"accuracy\"\n",
    ")\n",
    "\n",
    "round(cv_nb_bigrams['test_score'].mean(), 2)"
   ]
  },
  {
   "cell_type": "markdown",
   "metadata": {},
   "source": [
    "🏁 Congratulations! Now, you know how to train a Naive Bayes model on vectorized texts.\n",
    "\n",
    "💾 Don't forget to `git add/commit/push` your notebook...\n",
    "\n",
    "🚀 ... and move on to the next challenge!"
   ]
  }
 ],
 "metadata": {
  "kernelspec": {
   "display_name": "lewagon",
   "language": "python",
   "name": "python3"
  },
  "language_info": {
   "codemirror_mode": {
    "name": "ipython",
    "version": 3
   },
   "file_extension": ".py",
   "mimetype": "text/x-python",
   "name": "python",
   "nbconvert_exporter": "python",
   "pygments_lexer": "ipython3",
   "version": "3.10.6"
  }
 },
 "nbformat": 4,
 "nbformat_minor": 4
}
